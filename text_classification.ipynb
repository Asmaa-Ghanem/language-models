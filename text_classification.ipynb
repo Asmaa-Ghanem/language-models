{
  "nbformat": 4,
  "nbformat_minor": 0,
  "metadata": {
    "colab": {
      "provenance": []
    },
    "kernelspec": {
      "name": "python3",
      "display_name": "Python 3"
    },
    "language_info": {
      "name": "python"
    }
  },
  "cells": [
    {
      "cell_type": "markdown",
      "source": [
        "## Preprocessing for Classfication"
      ],
      "metadata": {
        "id": "p7K0U7IuzWyZ"
      }
    },
    {
      "cell_type": "code",
      "source": [
        "from datasets import load_dataset\n",
        "import numpy as np\n",
        "dataset = load_dataset(\"stanfordnlp/sst\", trust_remote_code=True)"
      ],
      "metadata": {
        "id": "egJhiAZ0mpAn"
      },
      "execution_count": 8,
      "outputs": []
    },
    {
      "cell_type": "code",
      "source": [
        "print(dataset)"
      ],
      "metadata": {
        "colab": {
          "base_uri": "https://localhost:8080/"
        },
        "id": "JVBW_6NivGuu",
        "outputId": "8dd4bb2e-f696-4d27-ffcb-847127174b49"
      },
      "execution_count": 11,
      "outputs": [
        {
          "output_type": "stream",
          "name": "stdout",
          "text": [
            "DatasetDict({\n",
            "    train: Dataset({\n",
            "        features: ['sentence', 'label', 'tokens', 'tree'],\n",
            "        num_rows: 8544\n",
            "    })\n",
            "    validation: Dataset({\n",
            "        features: ['sentence', 'label', 'tokens', 'tree'],\n",
            "        num_rows: 1101\n",
            "    })\n",
            "    test: Dataset({\n",
            "        features: ['sentence', 'label', 'tokens', 'tree'],\n",
            "        num_rows: 2210\n",
            "    })\n",
            "})\n"
          ]
        }
      ]
    },
    {
      "cell_type": "markdown",
      "source": [
        "Converting dataset into numpy arrays"
      ],
      "metadata": {
        "id": "NDHqvx1Qv3ra"
      }
    },
    {
      "cell_type": "code",
      "source": [
        "train_text = np.array(dataset[\"train\"][\"sentence\"])\n",
        "train_labels = np.array(dataset[\"train\"][\"label\"])\n",
        "\n",
        "valid_text = np.array(dataset[\"validation\"][\"sentence\"])\n",
        "valid_labels = np.array(dataset[\"validation\"][\"label\"])\n",
        "\n",
        "test_text = np.array(dataset[\"test\"][\"sentence\"])\n",
        "test_labels = np.array(dataset[\"test\"][\"label\"])"
      ],
      "metadata": {
        "id": "F8HUzDxvllmV"
      },
      "execution_count": 25,
      "outputs": []
    },
    {
      "cell_type": "code",
      "source": [
        "print(train_labels[0])"
      ],
      "metadata": {
        "colab": {
          "base_uri": "https://localhost:8080/"
        },
        "id": "1wP1lI7zyrHv",
        "outputId": "a189dfd3-a6fb-46c4-a795-746bb5ba1a52"
      },
      "execution_count": 26,
      "outputs": [
        {
          "output_type": "stream",
          "name": "stdout",
          "text": [
            "0.6944400072097778\n"
          ]
        }
      ]
    },
    {
      "cell_type": "markdown",
      "source": [
        "Converting labels to classes"
      ],
      "metadata": {
        "id": "pvlSQVnHyMXr"
      }
    },
    {
      "cell_type": "code",
      "source": [
        "bounds = np.array([0.2,0.4,0.6,0.8,1.0])\n",
        "train_labels = np.digitize(train_labels,bounds)\n",
        "valid_labels = np.digitize(valid_labels,bounds)\n",
        "test_labels = np.digitize(test_labels,bounds)"
      ],
      "metadata": {
        "id": "Jjarj-mrl5Se"
      },
      "execution_count": 27,
      "outputs": []
    },
    {
      "cell_type": "code",
      "source": [
        "print(train_labels)\n",
        "print(train_labels[0])"
      ],
      "metadata": {
        "colab": {
          "base_uri": "https://localhost:8080/"
        },
        "id": "wkl6jm89vQcE",
        "outputId": "a081abe5-f84c-48c4-e8d0-288dfe79f79a"
      },
      "execution_count": 30,
      "outputs": [
        {
          "output_type": "stream",
          "name": "stdout",
          "text": [
            "[3 4 3 ... 3 0 1]\n",
            "3\n"
          ]
        }
      ]
    },
    {
      "cell_type": "markdown",
      "source": [
        "# Part 2.1: Naive Bayes Classification"
      ],
      "metadata": {
        "id": "eYxxWZYVzGfN"
      }
    },
    {
      "cell_type": "code",
      "source": [],
      "metadata": {
        "id": "aTvoWRJoy0uC"
      },
      "execution_count": null,
      "outputs": []
    },
    {
      "cell_type": "markdown",
      "source": [
        "# Part 2.2: Logistic Regression"
      ],
      "metadata": {
        "id": "3JkmssTTzN9J"
      }
    },
    {
      "cell_type": "code",
      "source": [],
      "metadata": {
        "id": "FyBigUtbzSF-"
      },
      "execution_count": null,
      "outputs": []
    }
  ]
}